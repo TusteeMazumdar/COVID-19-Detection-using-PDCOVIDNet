{
  "cells": [
    {
      "cell_type": "markdown",
      "metadata": {
        "id": "U5SQ0Ncoq7tv"
      },
      "source": [
        "# **Importing Libraries**"
      ]
    },
    {
      "cell_type": "code",
      "execution_count": null,
      "metadata": {
        "id": "2RdaE75ejEkF"
      },
      "outputs": [],
      "source": [
        "import os\n",
        "import torch\n",
        "import numpy as np\n",
        "import torch.nn as nn\n",
        "import torch.optim as optim\n",
        "import torchvision.transforms as transforms\n",
        "import torchvision.datasets as datasets\n",
        "from torch.utils.data import DataLoader, WeightedRandomSampler\n",
        "from sklearn.metrics import classification_report, confusion_matrix, recall_score, precision_score, f1_score, accuracy_score\n",
        "import matplotlib.pyplot as plt\n",
        "import seaborn as sns\n",
        "from google.colab import files\n",
        "import torch.nn.functional as F\n"
      ]
    },
    {
      "cell_type": "markdown",
      "metadata": {
        "id": "hx2cn5BlmkEE"
      },
      "source": [
        "**Importing Dataset From Kaggle**\n",
        "\n",
        "\n"
      ]
    },
    {
      "cell_type": "code",
      "execution_count": null,
      "metadata": {
        "colab": {
          "base_uri": "https://localhost:8080/",
          "height": 142
        },
        "id": "WpysjwXgmzAD",
        "outputId": "65825e87-dcdc-4c11-dce6-84bdd1ff2f76"
      },
      "outputs": [
        {
          "output_type": "display_data",
          "data": {
            "text/plain": [
              "<IPython.core.display.HTML object>"
            ],
            "text/html": [
              "\n",
              "     <input type=\"file\" id=\"files-f91749c1-c225-41c8-861d-d855c2ffeaed\" name=\"files[]\" multiple disabled\n",
              "        style=\"border:none\" />\n",
              "     <output id=\"result-f91749c1-c225-41c8-861d-d855c2ffeaed\">\n",
              "      Upload widget is only available when the cell has been executed in the\n",
              "      current browser session. Please rerun this cell to enable.\n",
              "      </output>\n",
              "      <script>// Copyright 2017 Google LLC\n",
              "//\n",
              "// Licensed under the Apache License, Version 2.0 (the \"License\");\n",
              "// you may not use this file except in compliance with the License.\n",
              "// You may obtain a copy of the License at\n",
              "//\n",
              "//      http://www.apache.org/licenses/LICENSE-2.0\n",
              "//\n",
              "// Unless required by applicable law or agreed to in writing, software\n",
              "// distributed under the License is distributed on an \"AS IS\" BASIS,\n",
              "// WITHOUT WARRANTIES OR CONDITIONS OF ANY KIND, either express or implied.\n",
              "// See the License for the specific language governing permissions and\n",
              "// limitations under the License.\n",
              "\n",
              "/**\n",
              " * @fileoverview Helpers for google.colab Python module.\n",
              " */\n",
              "(function(scope) {\n",
              "function span(text, styleAttributes = {}) {\n",
              "  const element = document.createElement('span');\n",
              "  element.textContent = text;\n",
              "  for (const key of Object.keys(styleAttributes)) {\n",
              "    element.style[key] = styleAttributes[key];\n",
              "  }\n",
              "  return element;\n",
              "}\n",
              "\n",
              "// Max number of bytes which will be uploaded at a time.\n",
              "const MAX_PAYLOAD_SIZE = 100 * 1024;\n",
              "\n",
              "function _uploadFiles(inputId, outputId) {\n",
              "  const steps = uploadFilesStep(inputId, outputId);\n",
              "  const outputElement = document.getElementById(outputId);\n",
              "  // Cache steps on the outputElement to make it available for the next call\n",
              "  // to uploadFilesContinue from Python.\n",
              "  outputElement.steps = steps;\n",
              "\n",
              "  return _uploadFilesContinue(outputId);\n",
              "}\n",
              "\n",
              "// This is roughly an async generator (not supported in the browser yet),\n",
              "// where there are multiple asynchronous steps and the Python side is going\n",
              "// to poll for completion of each step.\n",
              "// This uses a Promise to block the python side on completion of each step,\n",
              "// then passes the result of the previous step as the input to the next step.\n",
              "function _uploadFilesContinue(outputId) {\n",
              "  const outputElement = document.getElementById(outputId);\n",
              "  const steps = outputElement.steps;\n",
              "\n",
              "  const next = steps.next(outputElement.lastPromiseValue);\n",
              "  return Promise.resolve(next.value.promise).then((value) => {\n",
              "    // Cache the last promise value to make it available to the next\n",
              "    // step of the generator.\n",
              "    outputElement.lastPromiseValue = value;\n",
              "    return next.value.response;\n",
              "  });\n",
              "}\n",
              "\n",
              "/**\n",
              " * Generator function which is called between each async step of the upload\n",
              " * process.\n",
              " * @param {string} inputId Element ID of the input file picker element.\n",
              " * @param {string} outputId Element ID of the output display.\n",
              " * @return {!Iterable<!Object>} Iterable of next steps.\n",
              " */\n",
              "function* uploadFilesStep(inputId, outputId) {\n",
              "  const inputElement = document.getElementById(inputId);\n",
              "  inputElement.disabled = false;\n",
              "\n",
              "  const outputElement = document.getElementById(outputId);\n",
              "  outputElement.innerHTML = '';\n",
              "\n",
              "  const pickedPromise = new Promise((resolve) => {\n",
              "    inputElement.addEventListener('change', (e) => {\n",
              "      resolve(e.target.files);\n",
              "    });\n",
              "  });\n",
              "\n",
              "  const cancel = document.createElement('button');\n",
              "  inputElement.parentElement.appendChild(cancel);\n",
              "  cancel.textContent = 'Cancel upload';\n",
              "  const cancelPromise = new Promise((resolve) => {\n",
              "    cancel.onclick = () => {\n",
              "      resolve(null);\n",
              "    };\n",
              "  });\n",
              "\n",
              "  // Wait for the user to pick the files.\n",
              "  const files = yield {\n",
              "    promise: Promise.race([pickedPromise, cancelPromise]),\n",
              "    response: {\n",
              "      action: 'starting',\n",
              "    }\n",
              "  };\n",
              "\n",
              "  cancel.remove();\n",
              "\n",
              "  // Disable the input element since further picks are not allowed.\n",
              "  inputElement.disabled = true;\n",
              "\n",
              "  if (!files) {\n",
              "    return {\n",
              "      response: {\n",
              "        action: 'complete',\n",
              "      }\n",
              "    };\n",
              "  }\n",
              "\n",
              "  for (const file of files) {\n",
              "    const li = document.createElement('li');\n",
              "    li.append(span(file.name, {fontWeight: 'bold'}));\n",
              "    li.append(span(\n",
              "        `(${file.type || 'n/a'}) - ${file.size} bytes, ` +\n",
              "        `last modified: ${\n",
              "            file.lastModifiedDate ? file.lastModifiedDate.toLocaleDateString() :\n",
              "                                    'n/a'} - `));\n",
              "    const percent = span('0% done');\n",
              "    li.appendChild(percent);\n",
              "\n",
              "    outputElement.appendChild(li);\n",
              "\n",
              "    const fileDataPromise = new Promise((resolve) => {\n",
              "      const reader = new FileReader();\n",
              "      reader.onload = (e) => {\n",
              "        resolve(e.target.result);\n",
              "      };\n",
              "      reader.readAsArrayBuffer(file);\n",
              "    });\n",
              "    // Wait for the data to be ready.\n",
              "    let fileData = yield {\n",
              "      promise: fileDataPromise,\n",
              "      response: {\n",
              "        action: 'continue',\n",
              "      }\n",
              "    };\n",
              "\n",
              "    // Use a chunked sending to avoid message size limits. See b/62115660.\n",
              "    let position = 0;\n",
              "    do {\n",
              "      const length = Math.min(fileData.byteLength - position, MAX_PAYLOAD_SIZE);\n",
              "      const chunk = new Uint8Array(fileData, position, length);\n",
              "      position += length;\n",
              "\n",
              "      const base64 = btoa(String.fromCharCode.apply(null, chunk));\n",
              "      yield {\n",
              "        response: {\n",
              "          action: 'append',\n",
              "          file: file.name,\n",
              "          data: base64,\n",
              "        },\n",
              "      };\n",
              "\n",
              "      let percentDone = fileData.byteLength === 0 ?\n",
              "          100 :\n",
              "          Math.round((position / fileData.byteLength) * 100);\n",
              "      percent.textContent = `${percentDone}% done`;\n",
              "\n",
              "    } while (position < fileData.byteLength);\n",
              "  }\n",
              "\n",
              "  // All done.\n",
              "  yield {\n",
              "    response: {\n",
              "      action: 'complete',\n",
              "    }\n",
              "  };\n",
              "}\n",
              "\n",
              "scope.google = scope.google || {};\n",
              "scope.google.colab = scope.google.colab || {};\n",
              "scope.google.colab._files = {\n",
              "  _uploadFiles,\n",
              "  _uploadFilesContinue,\n",
              "};\n",
              "})(self);\n",
              "</script> "
            ]
          },
          "metadata": {}
        },
        {
          "output_type": "stream",
          "name": "stdout",
          "text": [
            "Saving kaggle.json to kaggle.json\n",
            "Dataset URL: https://www.kaggle.com/datasets/alsaniipe/chest-x-ray-image\n",
            "License(s): apache-2.0\n",
            "Train: {'COVID19': 460, 'PNEUMONIA': 3418, 'NORMAL': 1266}\n",
            "Test: {'COVID19': 116, 'PNEUMONIA': 855, 'NORMAL': 317}\n"
          ]
        }
      ],
      "source": [
        "# **Importing Dataset From Kaggle**\n",
        "\n",
        "# Upload kaggle.json\n",
        "files.upload()\n",
        "\n",
        "# Setup Kaggle configuration\n",
        "!mkdir -p ~/.kaggle\n",
        "!mv kaggle.json ~/.kaggle/\n",
        "!chmod 600 ~/.kaggle/kaggle.json\n",
        "\n",
        "# Install Kaggle API\n",
        "!pip install -q kaggle\n",
        "\n",
        "# Download the dataset using Kaggle API\n",
        "!kaggle datasets download -d alsaniipe/chest-x-ray-image\n",
        "\n",
        "# Remove the previous dataset directory to avoid extraction conflicts (optional)\n",
        "!rm -rf chest_xray_dataset\n",
        "\n",
        "# Extract the dataset, using -o flag to overwrite any existing files\n",
        "!unzip -o -q chest-x-ray-image.zip -d chest_xray_dataset\n",
        "\n",
        "# Paths to dataset\n",
        "train_path = \"chest_xray_dataset/Data/train\"\n",
        "test_path = \"chest_xray_dataset/Data/test\"\n",
        "classes = [\"COVID19\", \"PNEUMONIA\", \"NORMAL\"]\n",
        "\n",
        "# Count the number of images in each class\n",
        "def count_images(dataset_path):\n",
        "    return {cls: len(os.listdir(os.path.join(dataset_path, cls))) for cls in classes}\n",
        "\n",
        "# Print the count of images for each class in the train and test datasets\n",
        "print(\"Train:\", count_images(train_path))\n",
        "print(\"Test:\", count_images(test_path))\n"
      ]
    },
    {
      "cell_type": "markdown",
      "metadata": {
        "id": "CrOKnWHbn7zO"
      },
      "source": [
        "** Transforms & Loader**"
      ]
    },
    {
      "cell_type": "code",
      "execution_count": null,
      "metadata": {
        "id": "woojSJTgys4H"
      },
      "outputs": [],
      "source": [
        "# Define image transformations for preprocessing\n",
        "transform = transforms.Compose([\n",
        "    transforms.Resize((224, 224)), #resizing image to 224 x 224 pixels\n",
        "    transforms.Grayscale(num_output_channels=1),  # convert to GRAY SCALE\n",
        "    transforms.ToTensor(),\n",
        "    transforms.Normalize([0.5], [0.5])  #  Grayscale normalization\n",
        "])\n"
      ]
    },
    {
      "cell_type": "code",
      "execution_count": null,
      "metadata": {
        "id": "kQOrv1PiuVXF"
      },
      "outputs": [],
      "source": [
        "# Step 1: Define the datasets first\n",
        "train_dataset = datasets.ImageFolder(root=train_path, transform=transform)\n",
        "test_dataset = datasets.ImageFolder(root=test_path, transform=transform)\n",
        "\n",
        "# Step 2: Handle class imbalance with WeightedRandomSampler\n",
        "class_weights = torch.FloatTensor([30.0, 3.0, 1.0])  # You can adjust this based on your class distribution\n",
        "weights = [class_weights[label] for _, label in train_dataset]\n",
        "sampler = WeightedRandomSampler(weights, len(weights), replacement=True)\n",
        "\n",
        "\n",
        "# Step 3: Define the DataLoaders with the defined samplers and batch sizes\n",
        "train_loader = DataLoader(train_dataset, batch_size=8, sampler=sampler)\n",
        "test_loader = DataLoader(test_dataset, batch_size=8, shuffle=False)\n"
      ]
    },
    {
      "cell_type": "markdown",
      "metadata": {
        "id": "dXfi7zBaoDA9"
      },
      "source": [
        "**Define pDCOVIDNET**"
      ]
    },
    {
      "cell_type": "code",
      "execution_count": null,
      "metadata": {
        "id": "-bOwdhjUoLPg"
      },
      "outputs": [],
      "source": [
        "class DilatedConvBlock(nn.Module):\n",
        "    #Define a custom CNN block\n",
        "    #__init__ method is used to initialize the module’s parameters\n",
        "    def __init__(self, in_channels, out_channels, dilation):\n",
        "        super(DilatedConvBlock, self).__init__()\n",
        "        self.conv1 = nn.Conv2d(in_channels, out_channels, kernel_size=3, stride=1, padding = dilation, dilation=dilation)\n",
        "        self.relu1 = nn.ReLU(inplace=True)\n",
        "\n",
        "        self.conv2 = nn.Conv2d(out_channels, out_channels, kernel_size=3, stride=1, padding = dilation, dilation=dilation)\n",
        "        self.relu2 = nn.ReLU(inplace=True)\n",
        "\n",
        "        self.pool = nn.MaxPool2d(kernel_size=2, stride=2)\n",
        "\n",
        "    #Forward pass (Conv → ReLU → Conv → ReLU → MaxPool)\n",
        "    #used to perform the computation that the module represents\n",
        "    def forward(self, x):\n",
        "        x = self.relu1(self.conv1(x))\n",
        "        x = self.relu2(self.conv2(x))\n",
        "        x = self.pool(x)\n",
        "        return x\n",
        "\n",
        "#Main model class\n",
        "class PDCOVIDNet(nn.Module):\n",
        "    def __init__(self, num_classes=3):\n",
        "        super(PDCOVIDNet, self).__init__()\n",
        "\n",
        "        # Branch 1  Standard convolution path (dilation=1)\n",
        "        self.branch1 = nn.Sequential(\n",
        "            DilatedConvBlock(1, 64, dilation=1),\n",
        "            DilatedConvBlock(64, 128, dilation=1),\n",
        "            DilatedConvBlock(128, 256, dilation=1),\n",
        "            DilatedConvBlock(256, 512, dilation=1),\n",
        "            DilatedConvBlock(512, 512, dilation=1),\n",
        "        )\n",
        "\n",
        "        # Branch 2  Dilated convolution path (dilation=2)\n",
        "        self.branch2 = nn.Sequential(\n",
        "            DilatedConvBlock(1, 64, dilation=2),\n",
        "            DilatedConvBlock(64, 128, dilation=2),\n",
        "            DilatedConvBlock(128, 256, dilation=2),\n",
        "            DilatedConvBlock(256, 512, dilation=2),\n",
        "            DilatedConvBlock(512, 512, dilation=2),\n",
        "        )\n",
        "\n",
        "        # Fusion layer to combine features from both branches\n",
        "        self.conv_fuse = nn.Conv2d(512, 512, kernel_size=3, stride=1, padding=1)\n",
        "\n",
        "        # Fully connected layers\n",
        "        self.fc1 = nn.Linear(512 * 7 * 7, 1024) #nn.Linear(num_inputs, hidden_size)\n",
        "        self.dropout1 = nn.Dropout(0.3)\n",
        "        self.fc2 = nn.Linear(1024, 1024)\n",
        "        self.dropout2 = nn.Dropout(0.3)\n",
        "        self.fc3 = nn.Linear(1024, num_classes)\n",
        "\n",
        "    #mainly starts from here\n",
        "    def forward(self, x):\n",
        "        out1 = self.branch1(x)\n",
        "        out2 = self.branch2(x)\n",
        "\n",
        "        # Element-wise addition\n",
        "        out = out1 + out2 #generates the same shape after addition\n",
        "\n",
        "        # Additional Conv layer after fusion\n",
        "        out = self.conv_fuse(out)\n",
        "\n",
        "        # Flatten the previous output that we got after fusion\n",
        "        out = out.view(out.size(0), -1) #(batch_size, 512 * 7 * 7) = (batch_size, 25088)\n",
        "\n",
        "        # Fully connected layers (separated operations)\n",
        "        out = self.fc1(out)          # Linear transformation\n",
        "        out = F.relu(out)            # ReLU activation\n",
        "        out = self.dropout1(out)     # Dropout\n",
        "\n",
        "        out = self.fc2(out)          # Linear transformation\n",
        "        out = F.relu(out)            # ReLU activation\n",
        "        out = self.dropout2(out)     # Dropout\n",
        "\n",
        "        out = self.fc3(out)          # Final linear transformation\n",
        "\n",
        "        return out  # Let CrossEntropyLoss apply LogSoftmax internally"
      ]
    },
    {
      "cell_type": "markdown",
      "source": [
        "**Data Augmentation**"
      ],
      "metadata": {
        "id": "yfGSIAHkY9WY"
      }
    },
    {
      "cell_type": "code",
      "execution_count": null,
      "metadata": {
        "id": "PU5QedF9wD9u"
      },
      "outputs": [],
      "source": [
        "train_transform = transforms.Compose([\n",
        "    transforms.Resize((224, 224)),\n",
        "    transforms.RandomRotation(30),\n",
        "    transforms.RandomAffine(\n",
        "        degrees=0,\n",
        "        translate=(0.15, 0.15),\n",
        "        scale=(0.9, 1.1),\n",
        "        shear=10,\n",
        "        interpolation=transforms.InterpolationMode.NEAREST\n",
        "    ),\n",
        "])\n"
      ]
    },
    {
      "cell_type": "markdown",
      "metadata": {
        "id": "PUs8cxa1oTrZ"
      },
      "source": [
        "** Train the Model**"
      ]
    },
    {
      "cell_type": "code",
      "execution_count": null,
      "metadata": {
        "colab": {
          "base_uri": "https://localhost:8080/"
        },
        "id": "vueir0odoWMm",
        "outputId": "dcc7698a-6c42-48c6-f17c-2c8623cbaf2b"
      },
      "outputs": [
        {
          "output_type": "stream",
          "name": "stdout",
          "text": [
            "Epoch 1: Train Loss = 0.6445\n",
            "Epoch 2: Train Loss = 0.2570\n",
            "Epoch 3: Train Loss = 0.1886\n",
            "Epoch 4: Train Loss = 0.1628\n",
            "Epoch 5: Train Loss = 0.1262\n",
            "Epoch 6: Train Loss = 0.0986\n",
            "Epoch 7: Train Loss = 0.0800\n",
            "Epoch 8: Train Loss = 0.0978\n",
            "Epoch 9: Train Loss = 0.0708\n",
            "Epoch 10: Train Loss = 0.0636\n",
            "Epoch 11: Train Loss = 0.0592\n",
            "Epoch 12: Train Loss = 0.0651\n",
            "Epoch 13: Train Loss = 0.0500\n",
            "Epoch 14: Train Loss = 0.0466\n",
            "Epoch 15: Train Loss = 0.0375\n",
            "Epoch 16: Train Loss = 0.0560\n",
            "Epoch 17: Train Loss = 0.0357\n",
            "Epoch 18: Train Loss = 0.0416\n",
            "Epoch 19: Train Loss = 0.0381\n",
            "Epoch 20: Train Loss = 0.0364\n"
          ]
        }
      ],
      "source": [
        "# Device setup\n",
        "device = torch.device(\"cuda\" if torch.cuda.is_available() else \"cpu\")\n",
        "\n",
        "\n",
        "# Model setup\n",
        "model = PDCOVIDNet(num_classes=3).to(device)\n",
        "optimizer = optim.Adam(model.parameters(), lr=2e-5)\n",
        "scheduler = optim.lr_scheduler.ReduceLROnPlateau(optimizer, patience=2, factor=0.5)  # Learning rate scheduler\n",
        "\n",
        "criterion = nn.CrossEntropyLoss()\n",
        "\n",
        "\n",
        "# Early stopping parameters\n",
        "best_val_loss = float('inf')\n",
        "patience = 3  # Number of epochs to wait before stopping\n",
        "no_improve = 0  # Counter for epochs without improvement\n",
        "\n",
        "# Training loop with early stopping\n",
        "import time\n",
        "\n",
        "# Training loop with time tracking\n",
        "for epoch in range(20):\n",
        "    start_time = time.time()  # Start timing\n",
        "\n",
        "    model.train()\n",
        "    train_loss = 0.0\n",
        "    total_samples = 0\n",
        "\n",
        "    for images, labels in train_loader:\n",
        "        images, labels = images.to(device), labels.to(device)\n",
        "        optimizer.zero_grad()\n",
        "        outputs = model(images)\n",
        "        loss = criterion(outputs, labels)\n",
        "        loss.backward()\n",
        "        optimizer.step()\n",
        "\n",
        "        train_loss += loss.item() * images.size(0)\n",
        "        total_samples += images.size(0)\n",
        "\n",
        "    avg_train_loss = train_loss / total_samples\n",
        "\n",
        "    # Validation phase (your current code goes here)\n",
        "\n",
        "    end_time = time.time()\n",
        "    epoch_duration = end_time - start_time\n",
        "\n",
        "\n",
        "    print(f\"Epoch {epoch+1}: Train Loss = {avg_train_loss:.4f}\")\n"
      ]
    },
    {
      "cell_type": "markdown",
      "metadata": {
        "id": "wpRyXFNDohs8"
      },
      "source": [
        "**Evalution**"
      ]
    },
    {
      "cell_type": "code",
      "execution_count": null,
      "metadata": {
        "id": "j2X1pH1Yoj_K"
      },
      "outputs": [],
      "source": [
        "# **Evaluation**\n",
        "\n",
        "model.eval()\n",
        "y_true, y_pred = [], []\n",
        "\n",
        "with torch.no_grad():\n",
        "    for images, labels in test_loader:\n",
        "        images, labels = images.to(device), labels.to(device)\n",
        "        outputs = model(images)\n",
        "        _, preds = torch.max(outputs, 1)\n",
        "\n",
        "        y_true.extend(labels.cpu().numpy())\n",
        "        y_pred.extend(preds.cpu().numpy())\n"
      ]
    },
    {
      "cell_type": "markdown",
      "metadata": {
        "id": "YYyNrXBqoled"
      },
      "source": [
        "Classification Report"
      ]
    },
    {
      "cell_type": "code",
      "execution_count": null,
      "metadata": {
        "id": "fughP26JooKU",
        "colab": {
          "base_uri": "https://localhost:8080/"
        },
        "outputId": "0ab5bcc7-11fe-4b0f-e9a6-b25f99099156"
      },
      "outputs": [
        {
          "output_type": "stream",
          "name": "stdout",
          "text": [
            "Macro Avg. Recall Score: 0.958499178012595\n",
            "Macro Avg. Precision Score: 0.9616666752263171\n",
            "Macro Avg. F1 Score: 0.9600511994320439\n",
            "Accuracy: 0.9611801242236024\n",
            "\n",
            "Evaluation Report:\n",
            "              precision    recall  f1-score   support\n",
            "\n",
            "     COVID19       0.99      0.97      0.98       116\n",
            "   PNEUMONIA       0.92      0.93      0.93       317\n",
            "      NORMAL       0.97      0.97      0.97       855\n",
            "\n",
            "    accuracy                           0.96      1288\n",
            "   macro avg       0.96      0.96      0.96      1288\n",
            "weighted avg       0.96      0.96      0.96      1288\n",
            "\n"
          ]
        }
      ],
      "source": [
        "# Classification Report\n",
        "\n",
        "from sklearn.metrics import recall_score, precision_score, f1_score, accuracy_score\n",
        "\n",
        "# Print evaluation metrics\n",
        "print('Macro Avg. Recall Score:', recall_score(y_true, y_pred, average='macro'))\n",
        "print('Macro Avg. Precision Score:', precision_score(y_true, y_pred, average='macro'))\n",
        "print('Macro Avg. F1 Score:', f1_score(y_true, y_pred, average='macro'))\n",
        "print('Accuracy:', accuracy_score(y_true, y_pred))\n",
        "\n",
        "print('\\nEvaluation Report:')\n",
        "print(classification_report(y_true, y_pred, target_names=['COVID19', 'PNEUMONIA', 'NORMAL']))\n",
        "\n",
        "\n",
        "\n"
      ]
    },
    {
      "cell_type": "code",
      "source": [
        "# Compute confusion matrix\n",
        "cm = confusion_matrix(y_true, y_pred)\n",
        "\n",
        "# Set up the figure size\n",
        "plt.figure(figsize=(8, 6))\n",
        "\n",
        "# Plot confusion matrix with seaborn heatmap\n",
        "sns.heatmap(cm, annot=True, fmt='d', cmap='Blues', xticklabels=classes, yticklabels=classes)\n",
        "\n",
        "# Labeling the axes\n",
        "plt.xlabel('Predicted Labels')\n",
        "plt.ylabel('True Labels')\n",
        "plt.title('Confusion Matrix')\n",
        "\n",
        "# Show the plot\n",
        "plt.show()\n"
      ],
      "metadata": {
        "colab": {
          "base_uri": "https://localhost:8080/",
          "height": 560
        },
        "id": "27K-S2mQs7xw",
        "outputId": "ec163471-f04e-42bd-c47c-c3fce42129ae"
      },
      "execution_count": null,
      "outputs": [
        {
          "output_type": "display_data",
          "data": {
            "text/plain": [
              "<Figure size 800x600 with 2 Axes>"
            ],
            "image/png": "[encoded data removed]"
          },
          "metadata": {}
        }
      ]
    }
  ],
  "metadata": {
    "accelerator": "GPU",
    "colab": {
      "gpuType": "T4",
      "provenance": []
    },
    "kernelspec": {
      "display_name": "Python 3",
      "name": "python3"
    },
    "language_info": {
      "name": "python"
    }
  },
  "nbformat": 4,
  "nbformat_minor": 0
}